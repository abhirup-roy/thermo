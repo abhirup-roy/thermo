{
 "cells": [
  {
   "cell_type": "code",
   "execution_count": 1,
   "metadata": {},
   "outputs": [],
   "source": [
    "# imports\n",
    "import numpy as np\n",
    "import pandas as pd\n",
    "import matplotlib.pyplot as plt\n",
    "\n",
    "import sympy as sym"
   ]
  },
  {
   "cell_type": "markdown",
   "metadata": {},
   "source": [
    "First we establish the thermodynamic data required, including:\n",
    "* Gas constant (R)\n",
    "* Enthalpy of formation for $NH_3$ at standard conditions ($\\Delta H_{f, NH_3}^o$) \n",
    "* Standard entropies of components ($S_{N_2}^o$, $S_{H_2}^o$, $S_{NH_3}^o$)\n",
    "* Specific Heat Capacity Coefficients (A, B, C, D, E)"
   ]
  },
  {
   "cell_type": "code",
   "execution_count": 2,
   "metadata": {},
   "outputs": [],
   "source": [
    "#Thermo Data\n",
    "\n",
    "#Universal Gas Constant \n",
    "R = 8.314 # J/(mol K)\n",
    "\n",
    "#Enthalpy of formation NH3 (standard cond.)\n",
    "delta_hf_nh3 = -45.94 * 1000\n",
    "\n",
    "# Standard Entropies\n",
    "s_n2 = 191.609 #J/mol\n",
    "s_h2 = 130.680 #J/mol\n",
    "s_nh3 = 192.77 #J/mol\n",
    "\n",
    "#Heat Capacity Coefficients\n",
    "C_P = pd.DataFrame(\n",
    "    [[19.99563, 49.77119, -15.37599, 1.921168, 0.189174],\n",
    "     [33.066178, -11.363417, 11.432816, -2.772874, -0.158558],\n",
    "     [28.98641, 1.853978, -9.647459, 16.63537, 0.000117],\n",
    "     [19.50583, 19.88705, -8.598535, 1.369784, 0.527601\t]]\n",
    ").transpose()\n",
    "\n",
    "C_P.index = [\"A\", \"B\", \"C\", \"D\", \"E\"]\n",
    "C_P.columns = [\"NH3\", \"H2\", \"N2_1\", \"N2_2\"]"
   ]
  },
  {
   "cell_type": "markdown",
   "metadata": {},
   "source": [
    "Creating an expression for $C_P$:  \n",
    "$C_P=A+Bt+Ct^2+Dt^3+\\frac{E}{t^2}$, where $t=\\frac{T}{1000}$"
   ]
  },
  {
   "cell_type": "code",
   "execution_count": 3,
   "metadata": {},
   "outputs": [
    {
     "data": {
      "text/latex": [
       "$\\displaystyle A + \\frac{B T}{1000} + \\frac{C T^{2}}{1000000} + \\frac{D T^{3}}{1000000000} + \\frac{1000000 E}{T^{2}}$"
      ],
      "text/plain": [
       "A + B*T/1000 + C*T**2/1000000 + D*T**3/1000000000 + 1000000*E/T**2"
      ]
     },
     "execution_count": 3,
     "metadata": {},
     "output_type": "execute_result"
    }
   ],
   "source": [
    "# CP Expression\n",
    "A_, B_, C_, D_, E_, T_, Ti, Tf = sym.symbols(\"A, B, C, D, E, T, Ti Tf\")\n",
    "C_P_ = A_ + B_*(T_/1000) + C_*(T_/1000)**2 + D_*(T_/1000)**3 + E_*(T_/1000)**-2\n",
    "C_P_"
   ]
  },
  {
   "cell_type": "code",
   "execution_count": 4,
   "metadata": {},
   "outputs": [],
   "source": [
    "# General Expression for Sensible Enthalpy Change\n",
    "delta_h_sens = sym.integrate(C_P_, (T_,Ti,Tf))\n",
    "\n",
    "# Calculate Enthalpy Changes for 1 mole of each component\n",
    "nh3_enth_sens = delta_h_sens.subs(\n",
    "    [(A_,C_P.loc[\"A\", \"NH3\"]), (B_, C_P.loc[\"B\",\"NH3\"]), (C_, C_P.loc[\"C\",\"NH3\"]), (D_, C_P.loc[\"D\",\"NH3\"]),(E_,C_P.loc[\"E\",\"NH3\"]), (Ti,298)]\n",
    ")\n",
    "\n",
    "h2_enth_sens = delta_h_sens.subs(\n",
    "    [(A_,C_P.loc[\"A\",\"H2\"]), (B_, C_P.loc[\"B\",\"H2\"]), (C_, C_P.loc[\"C\",\"H2\"]), (D_, C_P.loc[\"D\",\"H2\"]),(E_,C_P.loc[\"E\",\"H2\"]), (Ti,298)]\n",
    ")\n",
    "\n",
    "n2_enth_sens_1 = delta_h_sens.subs(\n",
    "    [(A_,C_P.loc[\"A\",\"N2_1\"]), (B_, C_P.loc[\"B\",\"N2_1\"]), (C_, C_P.loc[\"C\",\"N2_1\"]), (D_, C_P.loc[\"D\",\"N2_1\"]),(E_,C_P.loc[\"E\",\"N2_1\"]), (Ti,298)]\n",
    ")\n",
    "\n",
    "n2_enth_sens_2 = delta_h_sens.subs(\n",
    "    [(A_,C_P.loc[\"A\",\"N2_1\"]), (B_, C_P.loc[\"B\",\"N2_1\"]), (C_, C_P.loc[\"C\",\"N2_1\"]), (D_, C_P.loc[\"D\",\"N2_1\"]),(E_,C_P.loc[\"E\",\"N2_1\"]), (Ti,298), (Tf,500)]\n",
    ") + delta_h_sens.subs(\n",
    "    [(A_,C_P.loc[\"A\",\"N2_2\"]), (B_, C_P.loc[\"B\",\"N2_2\"]), (C_, C_P.loc[\"C\",\"N2_2\"]), (D_, C_P.loc[\"D\",\"N2_2\"]),(E_,C_P.loc[\"E\",\"N2_2\"]), (Ti,500)]\n",
    ")"
   ]
  },
  {
   "cell_type": "code",
   "execution_count": 5,
   "metadata": {},
   "outputs": [
    {
     "name": "stdout",
     "output_type": "stream",
     "text": [
      "Delta H_rxn (<=500K): -1.118603e-9*Tf**4 - 1.84676563333333e-5*Tf**3 + 0.0658893265*Tf**2 - 88.193684*Tf - 68086.5229044564 - 853905.0/Tf\n",
      "Delta H_rxn (>500K):2.6977935e-9*Tf**4 - 1.88172976666667e-5*Tf**3 + 0.0568727905*Tf**2 - 78.713104*Tf - 71822.4665190398 - 326421.0/Tf\n"
     ]
    }
   ],
   "source": [
    "# Calculate enthalpy changes\n",
    "\n",
    "delta_h1 = 2 * delta_hf_nh3\n",
    "delta_h2 = 2 * nh3_enth_sens\n",
    "\n",
    "delta_h3_1 = n2_enth_sens_1 + 3*h2_enth_sens\n",
    "delta_h3_2 = n2_enth_sens_2 + 3*h2_enth_sens\n",
    "\n",
    "delta_h_rxn_1 = delta_h1 + delta_h2 - delta_h3_1\n",
    "delta_h_rxn_2 = delta_h1 + delta_h2 - delta_h3_2\n",
    "\n",
    "print(f\"Delta H_rxn (<=500K): {delta_h_rxn_1}\")\n",
    "print(f\"Delta H_rxn (>500K):{delta_h_rxn_2}\")"
   ]
  },
  {
   "cell_type": "code",
   "execution_count": 6,
   "metadata": {},
   "outputs": [],
   "source": [
    "# Calculate entropy changes\n",
    "delta_s_sens = sym.integrate(C_P_/T_, (T_,Ti,Tf))\n",
    "\n",
    "nh3_entr_sens = delta_s_sens.subs(\n",
    "    [(A_,C_P.loc[\"A\", \"NH3\"]), (B_, C_P.loc[\"B\",\"NH3\"]), (C_, C_P.loc[\"C\",\"NH3\"]), (D_, C_P.loc[\"D\",\"NH3\"]),(E_,C_P.loc[\"E\",\"NH3\"]), (Ti,298)]\n",
    ")\n",
    "\n",
    "h2_entr_sens = delta_s_sens.subs(\n",
    "    [(A_,C_P.loc[\"A\",\"H2\"]), (B_, C_P.loc[\"B\",\"H2\"]), (C_, C_P.loc[\"C\",\"H2\"]), (D_, C_P.loc[\"D\",\"H2\"]),(E_,C_P.loc[\"E\",\"H2\"]), (Ti,298)]\n",
    ")\n",
    "\n",
    "n2_entr_sens_1 = delta_s_sens.subs(\n",
    "    [(A_,C_P.loc[\"A\",\"N2_1\"]), (B_, C_P.loc[\"B\",\"N2_1\"]), (C_, C_P.loc[\"C\",\"N2_1\"]), (D_, C_P.loc[\"D\",\"N2_1\"]),(E_,C_P.loc[\"E\",\"N2_1\"]), (Ti,298)]\n",
    ")\n",
    "\n",
    "n2_entr_sens_2 = delta_s_sens.subs(\n",
    "    [(A_,C_P.loc[\"A\",\"N2_1\"]), (B_, C_P.loc[\"B\",\"N2_1\"]), (C_, C_P.loc[\"C\",\"N2_1\"]), (D_, C_P.loc[\"D\",\"N2_1\"]),(E_,C_P.loc[\"E\",\"N2_1\"]), (Ti,298), (Tf,500)]\n",
    ") + delta_s_sens.subs(\n",
    "    [(A_,C_P.loc[\"A\",\"N2_2\"]), (B_, C_P.loc[\"B\",\"N2_2\"]), (C_, C_P.loc[\"C\",\"N2_2\"]), (D_, C_P.loc[\"D\",\"N2_2\"]),(E_,C_P.loc[\"E\",\"N2_2\"]), (Ti,500)]\n",
    ")"
   ]
  },
  {
   "cell_type": "code",
   "execution_count": 7,
   "metadata": {},
   "outputs": [
    {
     "name": "stdout",
     "output_type": "stream",
     "text": [
      "Delta S_rxn (<=500K): -1.49147066666667e-9*Tf**3 - 2.77014845e-5*Tf**2 + 0.131778653*Tf - 88.193684*log(Tf) - 230.071759212497 + 88.193684*log(298) - 426952.5/Tf**2\n",
      "Delta S_rxn (>500K):3.597058e-9*Tf**3 - 2.82259465e-5*Tf**2 + 0.113745581*Tf - 78.713104*log(Tf) - 222.615141795831 - 9.48058*log(500) + 88.193684*log(298) - 163210.5/Tf**2\n"
     ]
    }
   ],
   "source": [
    "delta_s1 = 2 * s_nh3-s_n2 - 3 * s_h2\n",
    "delta_s2 = 2 * nh3_entr_sens\n",
    "\n",
    "delta_s3_1 = n2_entr_sens_1 + 3 * h2_entr_sens\n",
    "delta_s3_2 = n2_entr_sens_2 + 3*h2_entr_sens\n",
    "\n",
    "delta_s_rxn_1 = delta_s1 + delta_s2 - delta_s3_1\n",
    "delta_s_rxn_2 = delta_s1 + delta_s2 - delta_s3_2\n",
    "\n",
    "print(f\"Delta S_rxn (<=500K): {delta_s_rxn_1}\")\n",
    "print(f\"Delta S_rxn (>500K):{delta_s_rxn_2}\")"
   ]
  },
  {
   "cell_type": "code",
   "execution_count": 8,
   "metadata": {},
   "outputs": [
    {
     "name": "stdout",
     "output_type": "stream",
     "text": [
      "Delta G_rxn (<=500K): -1.118603e-9*Tf**4 - 1.84676563333333e-5*Tf**3 + 0.0658893265*Tf**2 - Tf*(-1.49147066666667e-9*Tf**3 - 2.77014845e-5*Tf**2 + 0.131778653*Tf - 88.193684*log(Tf) - 230.071759212497 + 88.193684*log(298) - 426952.5/Tf**2) - 88.193684*Tf - 68086.5229044564 - 853905.0/Tf\n",
      "Delta G_rxn (>500K):2.6977935e-9*Tf**4 - 1.88172976666667e-5*Tf**3 + 0.0568727905*Tf**2 - Tf*(3.597058e-9*Tf**3 - 2.82259465e-5*Tf**2 + 0.113745581*Tf - 78.713104*log(Tf) - 222.615141795831 - 9.48058*log(500) + 88.193684*log(298) - 163210.5/Tf**2) - 78.713104*Tf - 71822.4665190398 - 326421.0/Tf\n"
     ]
    }
   ],
   "source": [
    "# Calculate Gibbs Free Energy changes\n",
    "\n",
    "delta_g_rxn_1 = delta_h_rxn_1 - Tf*delta_s_rxn_1\n",
    "delta_g_rxn_2 = delta_h_rxn_2 - Tf*delta_s_rxn_2\n",
    "\n",
    "print(f\"Delta G_rxn (<=500K): {delta_g_rxn_1}\")\n",
    "print(f\"Delta G_rxn (>500K):{delta_g_rxn_2}\")"
   ]
  },
  {
   "cell_type": "code",
   "execution_count": 9,
   "metadata": {},
   "outputs": [
    {
     "name": "stdout",
     "output_type": "stream",
     "text": [
      "K (<=500K): exp(0.120279047389945*(1.118603e-9*Tf**4 + 1.84676563333333e-5*Tf**3 - 0.0658893265*Tf**2 + Tf*(-1.49147066666667e-9*Tf**3 - 2.77014845e-5*Tf**2 + 0.131778653*Tf - 88.193684*log(Tf) - 230.071759212497 + 88.193684*log(298) - 426952.5/Tf**2) + 88.193684*Tf + 68086.5229044564 + 853905.0/Tf)/Tf)\n",
      "K (>500K): exp(0.120279047389945*(-2.6977935e-9*Tf**4 + 1.88172976666667e-5*Tf**3 - 0.0568727905*Tf**2 + Tf*(3.597058e-9*Tf**3 - 2.82259465e-5*Tf**2 + 0.113745581*Tf - 78.713104*log(Tf) - 222.615141795831 - 9.48058*log(500) + 88.193684*log(298) - 163210.5/Tf**2) + 78.713104*Tf + 71822.4665190398 + 326421.0/Tf)/Tf)\n"
     ]
    }
   ],
   "source": [
    "# Calculate Equilibrium constants\n",
    "\n",
    "K_1 = sym.exp(-delta_g_rxn_1/(R*Tf))\n",
    "K_2 = sym.exp(-delta_g_rxn_2/(R*Tf))\n",
    "\n",
    "print(f\"K (<=500K): {K_1}\")\n",
    "print(f\"K (>500K): {K_2}\")"
   ]
  },
  {
   "cell_type": "code",
   "execution_count": 10,
   "metadata": {},
   "outputs": [
    {
     "data": {
      "text/plain": [
       "array([4.46405099e+05, 4.40953591e+05, 4.35571966e+05, ...,\n",
       "       1.48782599e-06, 1.48542107e-06, 1.48302054e-06])"
      ]
     },
     "execution_count": 10,
     "metadata": {},
     "output_type": "execute_result"
    }
   ],
   "source": [
    "# Declaring temperature and pressure ranges\n",
    "T_vals = [i / 10.0 for i in range(3000, 9001, 1)]\n",
    "P = np.array([1, 10, 50, 100, 500]) # Pressures in Ba\n",
    "\n",
    "\n",
    "K = list()\n",
    "for T in T_vals:\n",
    "    if T > 500: \n",
    "        K.append(float(K_2.subs(Tf,T)))\n",
    "    else:\n",
    "        K.append(float(K_1.subs(Tf,T)))\n",
    "\n",
    "K=np.array(K)\n",
    "K"
   ]
  },
  {
   "cell_type": "code",
   "execution_count": 11,
   "metadata": {},
   "outputs": [
    {
     "data": {
      "text/plain": [
       "[1 - 2*sqrt(-3*sqrt(3)*sqrt(K)*p_/(27*K*p_**2 - 16) - 4/(27*K*p_**2 - 16)),\n",
       " 1 - 2*sqrt(3*sqrt(3)*sqrt(K)*p_/(27*K*p_**2 - 16) - 4/(27*K*p_**2 - 16)),\n",
       " 2*sqrt(-3*sqrt(3)*sqrt(K)*p_/(27*K*p_**2 - 16) - 4/(27*K*p_**2 - 16)) + 1,\n",
       " 2*sqrt(3*sqrt(3)*sqrt(K)*p_/(27*K*p_**2 - 16) - 4/(27*K*p_**2 - 16)) + 1]"
      ]
     },
     "execution_count": 11,
     "metadata": {},
     "output_type": "execute_result"
    }
   ],
   "source": [
    "# Solving conversion expression\n",
    "K_, P_, X_ = sym.symbols(\"K p_ X\")\n",
    "eqn = sym.Eq(K_, (16*X_**2*(2-X_)**2)/(27*(1 - X_)**4)*(1/P_**2))\n",
    "sols = sym.solve(eqn, X_)\n",
    "sols"
   ]
  },
  {
   "cell_type": "code",
   "execution_count": 12,
   "metadata": {},
   "outputs": [
    {
     "data": {
      "text/plain": [
       "[array([ 1.00000000e+00-0.03396308j,  1.00000000e+00-0.03406769j,\n",
       "         1.00000000e+00-0.03417256j, ..., -7.93203191e-04+0.j        ,\n",
       "        -7.92561102e-04+0.j        , -7.91919667e-04+0.j        ]),\n",
       " array([9.66076026e-01, 9.65971779e-01, 9.65867277e-01, ...,\n",
       "        7.91320158e-04, 7.90681112e-04, 7.90042716e-04]),\n",
       " array([1.        +0.03396308j, 1.        +0.03406769j,\n",
       "        1.        +0.03417256j, ..., 2.0007932 +0.j        ,\n",
       "        2.00079256+0.j        , 2.00079192+0.j        ]),\n",
       " array([1.03392397, 1.03402822, 1.03413272, ..., 1.99920868, 1.99920932,\n",
       "        1.99920996])]"
      ]
     },
     "execution_count": 12,
     "metadata": {},
     "output_type": "execute_result"
    }
   ],
   "source": [
    "# Testing solutions for 1 bar\n",
    "p_ = P[0]\n",
    "\n",
    "X_  = [\n",
    "    1 - 2*np.emath.sqrt(-3*np.emath.sqrt(3)*np.emath.sqrt(K)*p_/(27*K*p_**2 - 16) - 4/(27*K*p_**2 - 16)),\n",
    "    1 - 2*np.emath.sqrt(3*np.emath.sqrt(3)*np.emath.sqrt(K)*p_/(27*K*p_**2 - 16) - 4/(27*K*p_**2 - 16)), #only real and viable solution\n",
    "    2*np.emath.sqrt(-3*np.emath.sqrt(3)*np.emath.sqrt(K)*p_/(27*K*p_**2 - 16) - 4/(27*K*p_**2 - 16)) + 1,\n",
    "    2*np.emath.sqrt(3*np.emath.sqrt(3)*np.emath.sqrt(K)*p_/(27*K*p_**2 - 16) - 4/(27*K*p_**2 - 16)) + 1\n",
    "]\n",
    "\n",
    "X_"
   ]
  },
  {
   "cell_type": "code",
   "execution_count": 14,
   "metadata": {},
   "outputs": [
    {
     "data": {
      "text/html": [
       "<div>\n",
       "<style scoped>\n",
       "    .dataframe tbody tr th:only-of-type {\n",
       "        vertical-align: middle;\n",
       "    }\n",
       "\n",
       "    .dataframe tbody tr th {\n",
       "        vertical-align: top;\n",
       "    }\n",
       "\n",
       "    .dataframe thead th {\n",
       "        text-align: right;\n",
       "    }\n",
       "</style>\n",
       "<table border=\"1\" class=\"dataframe\">\n",
       "  <thead>\n",
       "    <tr style=\"text-align: right;\">\n",
       "      <th></th>\n",
       "      <th>1 bar</th>\n",
       "      <th>10 bar</th>\n",
       "      <th>50 bar</th>\n",
       "      <th>100 bar</th>\n",
       "      <th>500 bar</th>\n",
       "    </tr>\n",
       "  </thead>\n",
       "  <tbody>\n",
       "    <tr>\n",
       "      <th>300.0</th>\n",
       "      <td>0.966076</td>\n",
       "      <td>0.989267</td>\n",
       "      <td>0.995200</td>\n",
       "      <td>0.996606</td>\n",
       "      <td>0.998482</td>\n",
       "    </tr>\n",
       "    <tr>\n",
       "      <th>300.1</th>\n",
       "      <td>0.965972</td>\n",
       "      <td>0.989234</td>\n",
       "      <td>0.995185</td>\n",
       "      <td>0.996595</td>\n",
       "      <td>0.998477</td>\n",
       "    </tr>\n",
       "    <tr>\n",
       "      <th>300.2</th>\n",
       "      <td>0.965867</td>\n",
       "      <td>0.989201</td>\n",
       "      <td>0.995170</td>\n",
       "      <td>0.996585</td>\n",
       "      <td>0.998473</td>\n",
       "    </tr>\n",
       "    <tr>\n",
       "      <th>300.3</th>\n",
       "      <td>0.965763</td>\n",
       "      <td>0.989167</td>\n",
       "      <td>0.995155</td>\n",
       "      <td>0.996574</td>\n",
       "      <td>0.998468</td>\n",
       "    </tr>\n",
       "    <tr>\n",
       "      <th>300.4</th>\n",
       "      <td>0.965658</td>\n",
       "      <td>0.989134</td>\n",
       "      <td>0.995140</td>\n",
       "      <td>0.996564</td>\n",
       "      <td>0.998463</td>\n",
       "    </tr>\n",
       "    <tr>\n",
       "      <th>...</th>\n",
       "      <td>...</td>\n",
       "      <td>...</td>\n",
       "      <td>...</td>\n",
       "      <td>...</td>\n",
       "      <td>...</td>\n",
       "    </tr>\n",
       "    <tr>\n",
       "      <th>899.6</th>\n",
       "      <td>0.000793</td>\n",
       "      <td>0.007842</td>\n",
       "      <td>0.037462</td>\n",
       "      <td>0.071006</td>\n",
       "      <td>0.253304</td>\n",
       "    </tr>\n",
       "    <tr>\n",
       "      <th>899.7</th>\n",
       "      <td>0.000792</td>\n",
       "      <td>0.007836</td>\n",
       "      <td>0.037433</td>\n",
       "      <td>0.070955</td>\n",
       "      <td>0.253170</td>\n",
       "    </tr>\n",
       "    <tr>\n",
       "      <th>899.8</th>\n",
       "      <td>0.000791</td>\n",
       "      <td>0.007830</td>\n",
       "      <td>0.037405</td>\n",
       "      <td>0.070903</td>\n",
       "      <td>0.253036</td>\n",
       "    </tr>\n",
       "    <tr>\n",
       "      <th>899.9</th>\n",
       "      <td>0.000791</td>\n",
       "      <td>0.007823</td>\n",
       "      <td>0.037376</td>\n",
       "      <td>0.070852</td>\n",
       "      <td>0.252903</td>\n",
       "    </tr>\n",
       "    <tr>\n",
       "      <th>900.0</th>\n",
       "      <td>0.000790</td>\n",
       "      <td>0.007817</td>\n",
       "      <td>0.037347</td>\n",
       "      <td>0.070800</td>\n",
       "      <td>0.252769</td>\n",
       "    </tr>\n",
       "  </tbody>\n",
       "</table>\n",
       "<p>6001 rows × 5 columns</p>\n",
       "</div>"
      ],
      "text/plain": [
       "          1 bar    10 bar    50 bar   100 bar   500 bar\n",
       "300.0  0.966076  0.989267  0.995200  0.996606  0.998482\n",
       "300.1  0.965972  0.989234  0.995185  0.996595  0.998477\n",
       "300.2  0.965867  0.989201  0.995170  0.996585  0.998473\n",
       "300.3  0.965763  0.989167  0.995155  0.996574  0.998468\n",
       "300.4  0.965658  0.989134  0.995140  0.996564  0.998463\n",
       "...         ...       ...       ...       ...       ...\n",
       "899.6  0.000793  0.007842  0.037462  0.071006  0.253304\n",
       "899.7  0.000792  0.007836  0.037433  0.070955  0.253170\n",
       "899.8  0.000791  0.007830  0.037405  0.070903  0.253036\n",
       "899.9  0.000791  0.007823  0.037376  0.070852  0.252903\n",
       "900.0  0.000790  0.007817  0.037347  0.070800  0.252769\n",
       "\n",
       "[6001 rows x 5 columns]"
      ]
     },
     "execution_count": 14,
     "metadata": {},
     "output_type": "execute_result"
    }
   ],
   "source": [
    "# using viable calculation for calculating final conversion\n",
    "x = [1 - 2*np.sqrt(3*np.sqrt(3)*np.sqrt(K)*p/(27*K*p**2 - 16) - 4/(27*K*p**2 - 16)) for p in P]\n",
    "\n",
    "\n",
    "df = (\n",
    "    pd.DataFrame(x)\n",
    "    .transpose()\n",
    ")\n",
    "\n",
    "df.index = T_vals\n",
    "df.rename_axis(\"Temperature\")\n",
    "df.columns = [\"1 bar\", \"10 bar\", \"50 bar\", \"100 bar\", \"500 bar\"]\n",
    "\n",
    "df"
   ]
  },
  {
   "cell_type": "code",
   "execution_count": 15,
   "metadata": {},
   "outputs": [
    {
     "data": {
      "image/png": "[encoded data removed]",
      "text/plain": [
       "<Figure size 640x480 with 1 Axes>"
      ]
     },
     "metadata": {},
     "output_type": "display_data"
    }
   ],
   "source": [
    "df.plot(\n",
    "    ylabel=\"Conversion\", \n",
    "    xlabel=\"Temperature (K)\",\n",
    "    title=\"Equilibrium Conversion Plots (Combined)\",\n",
    "    grid=True\n",
    ");"
   ]
  }
 ],
 "metadata": {
  "kernelspec": {
   "display_name": "Python 3 (ipykernel)",
   "language": "python",
   "name": "python3"
  },
  "language_info": {
   "codemirror_mode": {
    "name": "ipython",
    "version": 3
   },
   "file_extension": ".py",
   "mimetype": "text/x-python",
   "name": "python",
   "nbconvert_exporter": "python",
   "pygments_lexer": "ipython3",
   "version": "3.11.5"
  }
 },
 "nbformat": 4,
 "nbformat_minor": 2
}
