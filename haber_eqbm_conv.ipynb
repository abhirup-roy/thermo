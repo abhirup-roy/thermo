{
 "cells": [
  {
   "cell_type": "code",
   "execution_count": 1,
   "metadata": {},
   "outputs": [],
   "source": [
    "# imports\n",
    "import numpy as np\n",
    "import pandas as pd\n",
    "import matplotlib.pyplot as plt\n",
    "\n",
    "import sympy as sym"
   ]
  },
  {
   "cell_type": "markdown",
   "metadata": {},
   "source": [
    "First we establish the thermodynamic data required, including:\n",
    "* Gas constant (R)\n",
    "* Enthalpy of formation for $NH_3$ at standard conditions ($\\Delta H_{f, NH_3}^o$) \n",
    "* Standard entropies of components ($S_{N_2}^o$, $S_{H_2}^o$, $S_{NH_3}^o$)\n",
    "* Specific Heat Capacity Coefficients (A, B, C, D, E)"
   ]
  },
  {
   "cell_type": "code",
   "execution_count": 10,
   "metadata": {},
   "outputs": [],
   "source": [
    "#Thermo Data\n",
    "\n",
    "#Universal Gas Constant \n",
    "R = 8.314 # J/(mol K)\n",
    "\n",
    "#Enthalpy of formation NH3 (standard cond.)\n",
    "delta_hf_nh3 = -45.94 * 1000\n",
    "\n",
    "# Standard Entropies\n",
    "s_n2 = 191.609 #J/mol\n",
    "s_h2 = 130.680 #J/mol\n",
    "s_nh3 = 192.77 #J/mol\n",
    "\n",
    "#Heat Capacity Coefficients\n",
    "C_P = pd.DataFrame(\n",
    "    [[19.99563, 49.77119, -15.37599, 1.921168, 0.189174],\n",
    "     [33.066178, -11.363417, 11.432816, -2.772874, -0.158558],\n",
    "     [28.98641, 1.853978, -9.647459, 16.63537, 0.000117],\n",
    "     [19.50583, 19.88705, -8.598535, 1.369784, 0.527601\t]]\n",
    ").transpose()\n",
    "\n",
    "C_P.index = [\"A\", \"B\", \"C\", \"D\", \"E\"]\n",
    "C_P.columns = [\"NH3\", \"H2\", \"N2_1\", \"N2_2\"]"
   ]
  },
  {
   "cell_type": "markdown",
   "metadata": {},
   "source": [
    "Creating an expression for $C_P$:  \n",
    "$C_P=A+Bt+Ct^2+Dt^3+\\frac{E}{t^2}$, where $t=\\frac{T}{1000}$"
   ]
  },
  {
   "cell_type": "code",
   "execution_count": 32,
   "metadata": {},
   "outputs": [
    {
     "data": {
      "text/latex": [
       "$\\displaystyle A + \\frac{B T}{1000} + \\frac{C T^{2}}{1000000} + \\frac{D T^{3}}{1000000000} + \\frac{1000000 E}{T^{2}}$"
      ],
      "text/plain": [
       "A + B*T/1000 + C*T**2/1000000 + D*T**3/1000000000 + 1000000*E/T**2"
      ]
     },
     "execution_count": 32,
     "metadata": {},
     "output_type": "execute_result"
    }
   ],
   "source": [
    "# CP Expression\n",
    "A_, B_, C_, D_, E_, T_, Ti, Tf = sym.symbols(\"A, B, C, D, E, T, Ti Tf\")\n",
    "C_P_ = A_ + B_*(T_/1000) + C_*(T_/1000)**2 + D_*(T_/1000)**3 + E_*(T_/1000)**-2\n",
    "C_P_"
   ]
  },
  {
   "cell_type": "code",
   "execution_count": 4,
   "metadata": {},
   "outputs": [],
   "source": [
    "# General Expression for Sensible Enthalpy Change\n",
    "delta_h_sens = sym.integrate(C_P_, (T_,Ti,Tf))\n",
    "\n",
    "# Calculate Enthalpy Changes for 1 mole of each component\n",
    "nh3_enth_sens = delta_h_sens.subs(\n",
    "    [(A_,C_P.loc[\"A\", \"NH3\"]), (B_, C_P.loc[\"B\",\"NH3\"]), (C_, C_P.loc[\"C\",\"NH3\"]), (D_, C_P.loc[\"D\",\"NH3\"]),(E_,C_P.loc[\"E\",\"NH3\"]), (Ti,298)]\n",
    ")\n",
    "\n",
    "h2_enth_sens = delta_h_sens.subs(\n",
    "    [(A_,C_P.loc[\"A\",\"H2\"]), (B_, C_P.loc[\"B\",\"H2\"]), (C_, C_P.loc[\"C\",\"H2\"]), (D_, C_P.loc[\"D\",\"H2\"]),(E_,C_P.loc[\"E\",\"H2\"]), (Ti,298)]\n",
    ")\n",
    "\n",
    "n2_enth_sens_1 = delta_h_sens.subs(\n",
    "    [(A_,C_P.loc[\"A\",\"N2_1\"]), (B_, C_P.loc[\"B\",\"N2_1\"]), (C_, C_P.loc[\"C\",\"N2_1\"]), (D_, C_P.loc[\"D\",\"N2_1\"]),(E_,C_P.loc[\"E\",\"N2_1\"]), (Ti,298)]\n",
    ")\n",
    "\n",
    "n2_enth_sens_2 = delta_h_sens.subs(\n",
    "    [(A_,C_P.loc[\"A\",\"N2_1\"]), (B_, C_P.loc[\"B\",\"N2_1\"]), (C_, C_P.loc[\"C\",\"N2_1\"]), (D_, C_P.loc[\"D\",\"N2_1\"]),(E_,C_P.loc[\"E\",\"N2_1\"]), (Ti,298), (Tf,500)]\n",
    ") + delta_h_sens.subs(\n",
    "    [(A_,C_P.loc[\"A\",\"N2_2\"]), (B_, C_P.loc[\"B\",\"N2_2\"]), (C_, C_P.loc[\"C\",\"N2_2\"]), (D_, C_P.loc[\"D\",\"N2_2\"]),(E_,C_P.loc[\"E\",\"N2_2\"]), (Ti,500)]\n",
    ")"
   ]
  },
  {
   "cell_type": "code",
   "execution_count": 5,
   "metadata": {},
   "outputs": [
    {
     "name": "stdout",
     "output_type": "stream",
     "text": [
      "Delta H_rxn (<=500K): -1.118603e-9*Tf**4 - 1.84676563333333e-5*Tf**3 + 0.0658893265*Tf**2 - 88.193684*Tf - 68086.5229044564 - 853905.0/Tf\n",
      "Delta H_rxn (>500K):2.6977935e-9*Tf**4 - 1.88172976666667e-5*Tf**3 + 0.0568727905*Tf**2 - 78.713104*Tf - 71822.4665190398 - 326421.0/Tf\n"
     ]
    }
   ],
   "source": [
    "\n",
    "delta_h1 = 2 * delta_hf_nh3\n",
    "delta_h2 = 2 * nh3_enth_sens\n",
    "\n",
    "delta_h3_1 = n2_enth_sens_1 + 3*h2_enth_sens\n",
    "delta_h3_2 = n2_enth_sens_2 + 3*h2_enth_sens\n",
    "\n",
    "delta_h_rxn_1 = delta_h1 + delta_h2 - delta_h3_1\n",
    "delta_h_rxn_2 = delta_h1 + delta_h2 - delta_h3_2\n",
    "\n",
    "print(f\"Delta H_rxn (<=500K): {delta_h_rxn_1}\")\n",
    "print(f\"Delta H_rxn (>500K):{delta_h_rxn_2}\")"
   ]
  },
  {
   "cell_type": "code",
   "execution_count": 6,
   "metadata": {},
   "outputs": [],
   "source": [
    "delta_s_sens = sym.integrate(C_P_/T_, (T_,Ti,Tf))\n",
    "\n",
    "nh3_entr_sens = delta_s_sens.subs(\n",
    "    [(A_,C_P.loc[\"A\", \"NH3\"]), (B_, C_P.loc[\"B\",\"NH3\"]), (C_, C_P.loc[\"C\",\"NH3\"]), (D_, C_P.loc[\"D\",\"NH3\"]),(E_,C_P.loc[\"E\",\"NH3\"]), (Ti,298)]\n",
    ")\n",
    "\n",
    "h2_entr_sens = delta_s_sens.subs(\n",
    "    [(A_,C_P.loc[\"A\",\"H2\"]), (B_, C_P.loc[\"B\",\"H2\"]), (C_, C_P.loc[\"C\",\"H2\"]), (D_, C_P.loc[\"D\",\"H2\"]),(E_,C_P.loc[\"E\",\"H2\"]), (Ti,298)]\n",
    ")\n",
    "\n",
    "n2_entr_sens_1 = delta_s_sens.subs(\n",
    "    [(A_,C_P.loc[\"A\",\"N2_1\"]), (B_, C_P.loc[\"B\",\"N2_1\"]), (C_, C_P.loc[\"C\",\"N2_1\"]), (D_, C_P.loc[\"D\",\"N2_1\"]),(E_,C_P.loc[\"E\",\"N2_1\"]), (Ti,298)]\n",
    ")\n",
    "\n",
    "n2_entr_sens_2 = delta_s_sens.subs(\n",
    "    [(A_,C_P.loc[\"A\",\"N2_1\"]), (B_, C_P.loc[\"B\",\"N2_1\"]), (C_, C_P.loc[\"C\",\"N2_1\"]), (D_, C_P.loc[\"D\",\"N2_1\"]),(E_,C_P.loc[\"E\",\"N2_1\"]), (Ti,298), (Tf,500)]\n",
    ") + delta_s_sens.subs(\n",
    "    [(A_,C_P.loc[\"A\",\"N2_2\"]), (B_, C_P.loc[\"B\",\"N2_2\"]), (C_, C_P.loc[\"C\",\"N2_2\"]), (D_, C_P.loc[\"D\",\"N2_2\"]),(E_,C_P.loc[\"E\",\"N2_2\"]), (Ti,500)]\n",
    ")"
   ]
  },
  {
   "cell_type": "code",
   "execution_count": 7,
   "metadata": {},
   "outputs": [
    {
     "name": "stdout",
     "output_type": "stream",
     "text": [
      "Delta S_rxn (<=500K): -1.49147066666667e-9*Tf**3 - 2.77014845e-5*Tf**2 + 0.131778653*Tf - 88.193684*log(Tf) - 230.071759212497 + 88.193684*log(298) - 426952.5/Tf**2\n",
      "Delta S_rxn (>500K):3.597058e-9*Tf**3 - 2.82259465e-5*Tf**2 + 0.113745581*Tf - 78.713104*log(Tf) - 222.615141795831 - 9.48058*log(500) + 88.193684*log(298) - 163210.5/Tf**2\n"
     ]
    }
   ],
   "source": [
    "delta_s1 = 2 * s_nh3-s_n2 - 3 * s_h2\n",
    "delta_s2 = 2 * nh3_entr_sens\n",
    "\n",
    "delta_s3_1 = n2_entr_sens_1 + 3 * h2_entr_sens\n",
    "delta_s3_2 = n2_entr_sens_2 + 3*h2_entr_sens\n",
    "\n",
    "delta_s_rxn_1 = delta_s1 + delta_s2 - delta_s3_1\n",
    "delta_s_rxn_2 = delta_s1 + delta_s2 - delta_s3_2\n",
    "\n",
    "print(f\"Delta S_rxn (<=500K): {delta_s_rxn_1}\")\n",
    "print(f\"Delta S_rxn (>500K):{delta_s_rxn_2}\")"
   ]
  },
  {
   "cell_type": "code",
   "execution_count": 8,
   "metadata": {},
   "outputs": [
    {
     "name": "stdout",
     "output_type": "stream",
     "text": [
      "Delta G_rxn (<=500K): -1.118603e-9*Tf**4 - 1.84676563333333e-5*Tf**3 + 0.0658893265*Tf**2 - Tf*(-1.49147066666667e-9*Tf**3 - 2.77014845e-5*Tf**2 + 0.131778653*Tf - 88.193684*log(Tf) - 230.071759212497 + 88.193684*log(298) - 426952.5/Tf**2) - 88.193684*Tf - 68086.5229044564 - 853905.0/Tf\n",
      "Delta G_rx`n (>500K):2.6977935e-9*Tf**4 - 1.88172976666667e-5*Tf**3 + 0.0568727905*Tf**2 - Tf*(3.597058e-9*Tf**3 - 2.82259465e-5*Tf**2 + 0.113745581*Tf - 78.713104*log(Tf) - 222.615141795831 - 9.48058*log(500) + 88.193684*log(298) - 163210.5/Tf**2) - 78.713104*Tf - 71822.4665190398 - 326421.0/Tf\n"
     ]
    }
   ],
   "source": [
    "# Gibbs Free Energies\n",
    "\n",
    "delta_g_rxn_1 = delta_h_rxn_1 - Tf*delta_s_rxn_1\n",
    "delta_g_rxn_2 = delta_h_rxn_2 - Tf*delta_s_rxn_2\n",
    "\n",
    "print(f\"Delta G_rxn (<=500K): {delta_g_rxn_1}\")\n",
    "print(f\"Delta G_rx`n (>500K):{delta_g_rxn_2}\")"
   ]
  },
  {
   "cell_type": "code",
   "execution_count": 9,
   "metadata": {},
   "outputs": [
    {
     "name": "stdout",
     "output_type": "stream",
     "text": [
      "K (<=500K): exp(0.120279047389945*(1.118603e-9*Tf**4 + 1.84676563333333e-5*Tf**3 - 0.0658893265*Tf**2 + Tf*(-1.49147066666667e-9*Tf**3 - 2.77014845e-5*Tf**2 + 0.131778653*Tf - 88.193684*log(Tf) - 230.071759212497 + 88.193684*log(298) - 426952.5/Tf**2) + 88.193684*Tf + 68086.5229044564 + 853905.0/Tf)/Tf)\n",
      "K (>500K): exp(0.120279047389945*(-2.6977935e-9*Tf**4 + 1.88172976666667e-5*Tf**3 - 0.0568727905*Tf**2 + Tf*(3.597058e-9*Tf**3 - 2.82259465e-5*Tf**2 + 0.113745581*Tf - 78.713104*log(Tf) - 222.615141795831 - 9.48058*log(500) + 88.193684*log(298) - 163210.5/Tf**2) + 78.713104*Tf + 71822.4665190398 + 326421.0/Tf)/Tf)\n"
     ]
    }
   ],
   "source": [
    "K_1 = sym.exp(-delta_g_rxn_1/(R*Tf))\n",
    "K_2 = sym.exp(-delta_g_rxn_2/(R*Tf))\n",
    "\n",
    "print(f\"K (<=500K): {K_1}\")\n",
    "print(f\"K (>500K): {K_2}\")"
   ]
  },
  {
   "cell_type": "code",
   "execution_count": 16,
   "metadata": {},
   "outputs": [
    {
     "data": {
      "text/plain": [
       "array([4.46405099e+05, 4.40953591e+05, 4.35571966e+05, ...,\n",
       "       1.48782599e-06, 1.48542107e-06, 1.48302054e-06])"
      ]
     },
     "execution_count": 16,
     "metadata": {},
     "output_type": "execute_result"
    }
   ],
   "source": [
    "T_vals = [i / 10.0 for i in range(3000, 9001, 1)]\n",
    "P = np.array([1e5, 2e5, 5e5, 10e5]) # Pressures in Pa\n",
    "\n",
    "\n",
    "K = list()\n",
    "for T in T_vals:\n",
    "    if T > 500: \n",
    "        K.append(float(K_2.subs(Tf,T)))\n",
    "    else:\n",
    "        K.append(float(K_1.subs(Tf,T)))\n",
    "\n",
    "K=np.array(K)\n",
    "K"
   ]
  },
  {
   "cell_type": "code",
   "execution_count": 17,
   "metadata": {},
   "outputs": [
    {
     "data": {
      "text/plain": [
       "[1 - 2*sqrt(-3*sqrt(3)*sqrt(K)*p_/(27*K*p_**2 - 16) - 4/(27*K*p_**2 - 16)),\n",
       " 1 - 2*sqrt(3*sqrt(3)*sqrt(K)*p_/(27*K*p_**2 - 16) - 4/(27*K*p_**2 - 16)),\n",
       " 2*sqrt(-3*sqrt(3)*sqrt(K)*p_/(27*K*p_**2 - 16) - 4/(27*K*p_**2 - 16)) + 1,\n",
       " 2*sqrt(3*sqrt(3)*sqrt(K)*p_/(27*K*p_**2 - 16) - 4/(27*K*p_**2 - 16)) + 1]"
      ]
     },
     "execution_count": 17,
     "metadata": {},
     "output_type": "execute_result"
    }
   ],
   "source": [
    "K_, P_, X_ = sym.symbols(\"K p_ X\")\n",
    "eqn = sym.Eq(K_, 16*X_**2*(X_- 2)**2/((1 - X_)*(3 - 3*X_)**3)*1/P_**2)\n",
    "sym.solve(eqn, X_)"
   ]
  },
  {
   "cell_type": "code",
   "execution_count": 18,
   "metadata": {},
   "outputs": [
    {
     "name": "stderr",
     "output_type": "stream",
     "text": [
      "C:\\Users\\abhir\\AppData\\Local\\Temp\\ipykernel_16048\\3818044903.py:4: RuntimeWarning: invalid value encountered in sqrt\n",
      "  1 - 2*np.sqrt(-3*np.sqrt(3)*np.sqrt(K)*p_/(27*K*p_**2 - 16) - 4/(27*K*p_**2 - 16)),\n",
      "C:\\Users\\abhir\\AppData\\Local\\Temp\\ipykernel_16048\\3818044903.py:6: RuntimeWarning: invalid value encountered in sqrt\n",
      "  2*np.sqrt(-3*np.sqrt(3)*np.sqrt(K)*p_/(27*K*p_**2 - 16) - 4/(27*K*p_**2 - 16)) + 1,\n"
     ]
    },
    {
     "data": {
      "text/plain": [
       "[array([nan, nan, nan, ..., nan, nan, nan]),\n",
       " array([0.99989266, 0.99989233, 0.999892  , ..., 0.92080735, 0.92077551,\n",
       "        0.92074367]),\n",
       " array([nan, nan, nan, ..., nan, nan, nan]),\n",
       " array([1.00010734, 1.00010767, 1.000108  , ..., 1.07919265, 1.07922449,\n",
       "        1.07925633])]"
      ]
     },
     "execution_count": 18,
     "metadata": {},
     "output_type": "execute_result"
    }
   ],
   "source": [
    "p_ = P[0]\n",
    "\n",
    "X_  = [\n",
    "    1 - 2*np.sqrt(-3*np.sqrt(3)*np.sqrt(K)*p_/(27*K*p_**2 - 16) - 4/(27*K*p_**2 - 16)),\n",
    "    1 - 2*np.sqrt(3*np.sqrt(3)*np.sqrt(K)*p_/(27*K*p_**2 - 16) - 4/(27*K*p_**2 - 16)),\n",
    "    2*np.sqrt(-3*np.sqrt(3)*np.sqrt(K)*p_/(27*K*p_**2 - 16) - 4/(27*K*p_**2 - 16)) + 1,\n",
    "    2*np.sqrt(3*np.sqrt(3)*np.sqrt(K)*p_/(27*K*p_**2 - 16) - 4/(27*K*p_**2 - 16)) + 1\n",
    "]\n",
    "\n",
    "X_"
   ]
  },
  {
   "cell_type": "code",
   "execution_count": 28,
   "metadata": {},
   "outputs": [
    {
     "data": {
      "text/html": [
       "<div>\n",
       "<style scoped>\n",
       "    .dataframe tbody tr th:only-of-type {\n",
       "        vertical-align: middle;\n",
       "    }\n",
       "\n",
       "    .dataframe tbody tr th {\n",
       "        vertical-align: top;\n",
       "    }\n",
       "\n",
       "    .dataframe thead th {\n",
       "        text-align: right;\n",
       "    }\n",
       "</style>\n",
       "<table border=\"1\" class=\"dataframe\">\n",
       "  <thead>\n",
       "    <tr style=\"text-align: right;\">\n",
       "      <th></th>\n",
       "      <th>1 bar</th>\n",
       "      <th>2 bar</th>\n",
       "      <th>5 bar</th>\n",
       "      <th>10 bar</th>\n",
       "    </tr>\n",
       "  </thead>\n",
       "  <tbody>\n",
       "    <tr>\n",
       "      <th>300.0</th>\n",
       "      <td>0.999893</td>\n",
       "      <td>0.999924</td>\n",
       "      <td>0.999952</td>\n",
       "      <td>0.999966</td>\n",
       "    </tr>\n",
       "    <tr>\n",
       "      <th>300.1</th>\n",
       "      <td>0.999892</td>\n",
       "      <td>0.999924</td>\n",
       "      <td>0.999952</td>\n",
       "      <td>0.999966</td>\n",
       "    </tr>\n",
       "    <tr>\n",
       "      <th>300.2</th>\n",
       "      <td>0.999892</td>\n",
       "      <td>0.999924</td>\n",
       "      <td>0.999952</td>\n",
       "      <td>0.999966</td>\n",
       "    </tr>\n",
       "    <tr>\n",
       "      <th>300.3</th>\n",
       "      <td>0.999892</td>\n",
       "      <td>0.999923</td>\n",
       "      <td>0.999952</td>\n",
       "      <td>0.999966</td>\n",
       "    </tr>\n",
       "    <tr>\n",
       "      <th>300.4</th>\n",
       "      <td>0.999891</td>\n",
       "      <td>0.999923</td>\n",
       "      <td>0.999951</td>\n",
       "      <td>0.999966</td>\n",
       "    </tr>\n",
       "    <tr>\n",
       "      <th>...</th>\n",
       "      <td>...</td>\n",
       "      <td>...</td>\n",
       "      <td>...</td>\n",
       "      <td>...</td>\n",
       "    </tr>\n",
       "    <tr>\n",
       "      <th>899.6</th>\n",
       "      <td>0.920871</td>\n",
       "      <td>0.943960</td>\n",
       "      <td>0.964523</td>\n",
       "      <td>0.974906</td>\n",
       "    </tr>\n",
       "    <tr>\n",
       "      <th>899.7</th>\n",
       "      <td>0.920839</td>\n",
       "      <td>0.943937</td>\n",
       "      <td>0.964509</td>\n",
       "      <td>0.974896</td>\n",
       "    </tr>\n",
       "    <tr>\n",
       "      <th>899.8</th>\n",
       "      <td>0.920807</td>\n",
       "      <td>0.943914</td>\n",
       "      <td>0.964495</td>\n",
       "      <td>0.974886</td>\n",
       "    </tr>\n",
       "    <tr>\n",
       "      <th>899.9</th>\n",
       "      <td>0.920776</td>\n",
       "      <td>0.943892</td>\n",
       "      <td>0.964480</td>\n",
       "      <td>0.974876</td>\n",
       "    </tr>\n",
       "    <tr>\n",
       "      <th>900.0</th>\n",
       "      <td>0.920744</td>\n",
       "      <td>0.943869</td>\n",
       "      <td>0.964466</td>\n",
       "      <td>0.974866</td>\n",
       "    </tr>\n",
       "  </tbody>\n",
       "</table>\n",
       "<p>6001 rows × 4 columns</p>\n",
       "</div>"
      ],
      "text/plain": [
       "          1 bar     2 bar     5 bar    10 bar\n",
       "300.0  0.999893  0.999924  0.999952  0.999966\n",
       "300.1  0.999892  0.999924  0.999952  0.999966\n",
       "300.2  0.999892  0.999924  0.999952  0.999966\n",
       "300.3  0.999892  0.999923  0.999952  0.999966\n",
       "300.4  0.999891  0.999923  0.999951  0.999966\n",
       "...         ...       ...       ...       ...\n",
       "899.6  0.920871  0.943960  0.964523  0.974906\n",
       "899.7  0.920839  0.943937  0.964509  0.974896\n",
       "899.8  0.920807  0.943914  0.964495  0.974886\n",
       "899.9  0.920776  0.943892  0.964480  0.974876\n",
       "900.0  0.920744  0.943869  0.964466  0.974866\n",
       "\n",
       "[6001 rows x 4 columns]"
      ]
     },
     "execution_count": 28,
     "metadata": {},
     "output_type": "execute_result"
    }
   ],
   "source": [
    "x = [1 - 2*np.sqrt(3*np.sqrt(3)*np.sqrt(K)*p/(27*K*p**2 - 16) - 4/(27*K*p**2 - 16)) for p in P]\n",
    "\n",
    "\n",
    "df = (\n",
    "    pd.DataFrame(x)\n",
    "    .transpose()\n",
    ")\n",
    "df.index = T_vals\n",
    "df.rename_axis(\"Temperature\")\n",
    "df.columns = [\"1 bar\", \"2 bar\", \"5 bar\", \"10 bar\"]\n",
    "\n",
    "df"
   ]
  },
  {
   "cell_type": "code",
   "execution_count": 30,
   "metadata": {},
   "outputs": [
    {
     "data": {
      "image/png": "[encoded data removed]",
      "text/plain": [
       "<Figure size 640x480 with 1 Axes>"
      ]
     },
     "metadata": {},
     "output_type": "display_data"
    }
   ],
   "source": [
    "df.plot(\n",
    "    ylabel=\"Conversion\", \n",
    "    xlabel=\"Temperature (K)\",\n",
    "    title=\"Equilibrium Conversion Plots (Combined)\",\n",
    "    grid=True\n",
    ");"
   ]
  }
 ],
 "metadata": {
  "kernelspec": {
   "display_name": "Python 3",
   "language": "python",
   "name": "python3"
  },
  "language_info": {
   "codemirror_mode": {
    "name": "ipython",
    "version": 3
   },
   "file_extension": ".py",
   "mimetype": "text/x-python",
   "name": "python",
   "nbconvert_exporter": "python",
   "pygments_lexer": "ipython3",
   "version": "3.12.1"
  }
 },
 "nbformat": 4,
 "nbformat_minor": 2
}
